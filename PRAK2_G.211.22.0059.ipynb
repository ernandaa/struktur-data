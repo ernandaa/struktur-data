{
  "nbformat": 4,
  "nbformat_minor": 0,
  "metadata": {
    "colab": {
      "provenance": [],
      "include_colab_link": true
    },
    "kernelspec": {
      "name": "python3",
      "display_name": "Python 3"
    },
    "language_info": {
      "name": "python"
    }
  },
  "cells": [
    {
      "cell_type": "markdown",
      "metadata": {
        "id": "view-in-github",
        "colab_type": "text"
      },
      "source": [
        "<a href=\"https://colab.research.google.com/github/ernandaa/struktur-data/blob/main/PRAK2_G.211.22.0059.ipynb\" target=\"_parent\"><img src=\"https://colab.research.google.com/assets/colab-badge.svg\" alt=\"Open In Colab\"/></a>"
      ]
    },
    {
      "cell_type": "code",
      "execution_count": null,
      "metadata": {
        "colab": {
          "base_uri": "https://localhost:8080/"
        },
        "id": "RR4i4l2AA7CW",
        "outputId": "cc434afa-bb56-49cc-f371-b7cbcf06ef48"
      },
      "outputs": [
        {
          "output_type": "stream",
          "name": "stdout",
          "text": [
            "Buah pertama: apel\n",
            "Buah kedua: pisang\n",
            "Buah ketiga: jeruk\n",
            "Semua buah: ('apel', 'pisang', 'jeruk')\n"
          ]
        }
      ],
      "source": [
        "\n",
        "# Membuat Tuple\n",
        "buah_tuple = ('apel', 'pisang', 'jeruk')\n",
        "\n",
        "# Mengakses elemen Tuple\n",
        "print(\"Buah pertama:\", buah_tuple[0])\n",
        "print(\"Buah kedua:\", buah_tuple[1])\n",
        "print(\"Buah ketiga:\", buah_tuple[2])\n",
        "\n",
        "# Tuple bersifat immutable (tidak dapat diubah)\n",
        "# buah_tuple[0] = 'anggur'  # Ini akan menghasilkan error\n",
        "\n",
        "# Menampilkan seluruh isi Tuple\n",
        "print(\"Semua buah:\", buah_tuple)\n",
        "\n"
      ]
    },
    {
      "cell_type": "code",
      "source": [],
      "metadata": {
        "id": "eUNfIZViD0Tl"
      },
      "execution_count": null,
      "outputs": []
    },
    {
      "cell_type": "code",
      "source": [
        "# Membuat Dictionary\n",
        "data_mahasiswa = {\n",
        "    'nama': 'John Doe',\n",
        "    'npm': '123456789',\n",
        "    'jurusan': 'Informatika',\n",
        "    'nilai': {'matematika': 90, 'fisika': 85, 'kimia': 78}\n",
        "}\n",
        "\n",
        "# Mengakses nilai dalam Dictionary\n",
        "print(\"Nama:\", data_mahasiswa['nama'])\n",
        "print(\"NPM:\", data_mahasiswa['npm'])\n",
        "print(\"Jurusan:\", data_mahasiswa['jurusan'])\n",
        "\n",
        "# Mengakses nilai dalam Dictionary yang bersarang (nested)\n",
        "print(\"Nilai Matematika:\", data_mahasiswa['nilai']['matematika'])\n",
        "\n",
        "# Mengubah nilai dalam Dictionary\n",
        "data_mahasiswa['nilai']['fisika'] = 88\n",
        "\n",
        "# Menampilkan seluruh isi Dictionary\n",
        "print(\"Data Mahasiswa:\", data_mahasiswa)\n"
      ],
      "metadata": {
        "colab": {
          "base_uri": "https://localhost:8080/"
        },
        "id": "X3Wnlsv0BHdw",
        "outputId": "be8cc1c0-1158-4341-fd2a-495240ed4fec"
      },
      "execution_count": null,
      "outputs": [
        {
          "output_type": "stream",
          "name": "stdout",
          "text": [
            "Nama: John Doe\n",
            "NPM: 123456789\n",
            "Jurusan: Informatika\n",
            "Nilai Matematika: 90\n",
            "Data Mahasiswa: {'nama': 'John Doe', 'npm': '123456789', 'jurusan': 'Informatika', 'nilai': {'matematika': 90, 'fisika': 88, 'kimia': 78}}\n"
          ]
        }
      ]
    }
  ]
}